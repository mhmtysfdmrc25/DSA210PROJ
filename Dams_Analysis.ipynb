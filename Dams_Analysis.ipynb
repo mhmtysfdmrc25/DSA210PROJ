{
  "nbformat": 4,
  "nbformat_minor": 0,
  "metadata": {
    "colab": {
      "provenance": []
    },
    "kernelspec": {
      "name": "python3",
      "display_name": "Python 3"
    },
    "language_info": {
      "name": "python"
    }
  },
  "cells": [
    {
      "cell_type": "code",
      "execution_count": 49,
      "metadata": {
        "id": "v3JCWpWmNQ4c"
      },
      "outputs": [],
      "source": [
        "import pandas as pd\n",
        "import matplotlib.pyplot as plt\n",
        "import seaborn as sns\n",
        "from scipy.stats import pearsonr\n",
        "from google.colab import drive\n",
        "import scipy.stats as stats\n",
        "\n",
        "rainfall_consumption_df = pd.read_excel(\"/content/drive/My Drive/Colab Notebooks/istanbul barajlarında yağış ve istanbul günlük tüketim oranı.xlsx\")\n",
        "reservoir_levels_df = pd.read_excel(\"/content/drive/My Drive/Colab Notebooks/istanbul barajlarının doluluk oranı.xlsx\")\n",
        "\n",
        "\n",
        "# Sütun isimlerini değiştirmeden verileri kullanalım\n",
        "# Tarih sütunlarını datetime formatına dönüştürelim\n",
        "rainfall_consumption_df['Tarih'] = pd.to_datetime(rainfall_consumption_df['Tarih'], errors='coerce')\n",
        "reservoir_levels_df['Tarih'] = pd.to_datetime(reservoir_levels_df['Tarih'], errors='coerce')\n",
        "\n",
        "# Verileri 'Tarih' sütununa göre birleştirelim\n",
        "merged_df = pd.merge(rainfall_consumption_df, reservoir_levels_df, on='Tarih', how='inner')\n",
        "\n",
        "# Barajların isimlerini Excel dosyasındaki orijinal halleriyle kullanacağız\n",
        "dam_names_rainfall = ['Ömerli (kg/m3)', 'Darlik (kg/m3)', 'Elmali (kg/m3)', 'Terkos (kg/m3)', 'Alibey (kg/m3)',\n",
        "             'B.çekmece (kg/m3)', 'Sazlidere (kg/m3)', 'Kazandere (kg/m3)', 'Pabuçdere (kg/m3)', 'ıstırancalar (kg/m3)']\n",
        "\n",
        "dam_names_reservoir = ['Ömerli', 'Darlık', 'Elmalı', 'Terkos', 'Alibey', 'Büyükçekmece', 'Sazlıdere', 'Kazandere', 'Pabuçdere', 'Istrancalar']\n",
        "\n",
        "# Orijinal sütun isimlerinin kontrolü\n",
        "#print(rainfall_consumption_df.columns)\n",
        "#print(reservoir_levels_df.columns)\n",
        "\n",
        "# İlk birkaç satırın kontrolü\n",
        "#print(rainfall_consumption_df.head())\n",
        "#print(reservoir_levels_df.head())\n",
        "\n",
        "# Veri birleştirildikten sonra birkaç satırın kontrolü\n",
        "#print(merged_df.head())\n",
        "#print(merged_df.tail())"
      ]
    },
    {
      "cell_type": "code",
      "source": [
        "print(\"Her Barajın Yağış Miktarı ile Doluluk Oranı Arasındaki Korelasyonlar:\")\n",
        "\n",
        "for dam in dam_names_rainfall:\n",
        "    m = dam_names_rainfall.index(dam)\n",
        "\n",
        "    # O barajın yağış miktarını alıyoruz\n",
        "    rainfall = merged_df[dam]  # Yağış miktarı (barajın sütunu)\n",
        "\n",
        "    # O barajın doluluk oranını alıyoruz\n",
        "    fill_percentage = merged_df[dam_names_reservoir[m]]  # Barajın doluluk oranı (barajın doluluk oranı)\n",
        "\n",
        "    # Pearson Korelasyonunu hesaplıyoruz\n",
        "    correlation, p_value = stats.pearsonr(rainfall, fill_percentage)\n",
        "\n",
        "    print(f\"{dam_names_reservoir[m]} barajının yağış miktarı ile doluluk oranı arasındaki korelasyon:\")\n",
        "    print(f\"Korelasyon: {correlation:.4f}, p-değeri: {p_value:.4f}\")\n",
        "    if p_value < 0.05:\n",
        "        print(f\"Hipotez reddedildi: Yağış miktarı ile {dam_names_reservoir[m]} barajının doluluk oranı arasında anlamlı bir ilişki vardır.\\n\")\n",
        "    else:\n",
        "        print(f\"Hipotez reddedilemedi: Yağış miktarı ile {dam_names_reservoir[m]} barajının doluluk oranı arasında anlamlı bir ilişki yoktur.\\n\")"
      ],
      "metadata": {
        "id": "Vfmtn6ScQ7uq"
      },
      "execution_count": null,
      "outputs": []
    },
    {
      "cell_type": "code",
      "source": [
        "print(\"Her Barajın Doluluk Miktarı ve Günlük Tüketim için Ayrı Ayrı Korelasyonlar:\")\n",
        "for damm in dam_names_reservoir:\n",
        "    x = merged_df['İstanbul günlük tüketim(m³/gün)']  # Su tüketimi\n",
        "    y = merged_df[damm]  # Barajın doluluk oranı (reservoir_levels_df'deki sütunlar)\n",
        "    correlation, p_value = stats.pearsonr(x, y)\n",
        "\n",
        "    print(f\"{damm} barajı ile su tüketimi arasındaki korelasyon:\")\n",
        "    print(f\"Korelasyon: {correlation:.4f}, p-değeri: {p_value:.4f}\")\n",
        "    if p_value < 0.05:\n",
        "        print(f\"Hipotez reddedildi: Su tüketimi ile {damm} barajının doluluk oranı arasında anlamlı bir ilişki vardır.\\n\")\n",
        "    else:\n",
        "        print(f\"Hipotez reddedilemedi: Su tüketimi ile {damm} barajının doluluk oranı arasında anlamlı bir ilişki yoktur.\\n\")"
      ],
      "metadata": {
        "id": "Bcm4Sq8vQ-6x"
      },
      "execution_count": null,
      "outputs": []
    },
    {
      "cell_type": "code",
      "source": [
        "print(\"Her Barajın Yağış Miktarı ve Günlük Tüketim için Ayrı Ayrı Korelasyonlar:\")\n",
        "for dam in dam_names_rainfall:\n",
        "    x = merged_df['İstanbul günlük tüketim(m³/gün)']  # Su tüketimi\n",
        "    y = merged_df[dam]  # Barajın doluluk oranı\n",
        "    correlation, p_value = stats.pearsonr(x, y)\n",
        "\n",
        "    print(f\"{dam} barajı ile su tüketimi arasındaki korelasyon:\")\n",
        "    print(f\"Korelasyon: {correlation:.4f}, p-değeri: {p_value:.4f}\")\n",
        "    if p_value < 0.05:\n",
        "        print(f\"Hipotez reddedildi: Su tüketimi ile {dam} barajı arasında anlamlı bir ilişki vardır.\\n\")\n",
        "    else:\n",
        "        print(f\"Hipotez reddedilemedi: Su tüketimi ile {dam} barajı arasında anlamlı bir ilişki yoktur.\\n\")"
      ],
      "metadata": {
        "id": "MsViiGUZQ-P0"
      },
      "execution_count": null,
      "outputs": []
    },
    {
      "cell_type": "code",
      "source": [
        "print(\"\\nToplam Yağış ile Su Tüketimi Arasındaki Korelasyon:\")\n",
        "# Toplam yağışı her barajın yağış verilerini toplayarak hesaplıyoruz\n",
        "total_rainfall = merged_df[dam_names_rainfall].sum(axis=1)  # Her gün için toplam yağış\n",
        "total_consumption = merged_df['İstanbul günlük tüketim(m³/gün)']  # Su tüketimi\n",
        "\n",
        "# Toplam yağış ile toplam su tüketimi arasındaki Pearson korelasyon testi\n",
        "correlation_total_rainfall, p_value_total_rainfall = stats.pearsonr(total_rainfall, total_consumption)\n",
        "\n",
        "print(f\"Korelasyon: {correlation_total_rainfall:.4f}, p-değeri: {p_value_total_rainfall:.4f}\")\n",
        "if p_value_total_rainfall < 0.05:\n",
        "    print(f\"Hipotez reddedildi: Toplam yağış ile su tüketimi arasında anlamlı bir ilişki vardır.\\n\")\n",
        "else:\n",
        "    print(f\"Hipotez reddedilemedi: Toplam yağış ile su tüketimi arasında anlamlı bir ilişki yoktur.\\n\")\n"
      ],
      "metadata": {
        "colab": {
          "base_uri": "https://localhost:8080/"
        },
        "id": "DNyaRezvQ-E3",
        "outputId": "1850bb4d-320e-4b11-90c5-15ffdaa50462"
      },
      "execution_count": 50,
      "outputs": [
        {
          "output_type": "stream",
          "name": "stdout",
          "text": [
            "\n",
            "Toplam Yağış ile Su Tüketimi Arasındaki Korelasyon:\n",
            "Korelasyon: -0.1108, p-değeri: 0.0000\n",
            "Hipotez reddedildi: Toplam yağış ile su tüketimi arasında anlamlı bir ilişki vardır.\n",
            "\n"
          ]
        }
      ]
    },
    {
      "cell_type": "code",
      "source": [
        "print(\"Toplam Yağış ile Her Barajın Doluluk Oranı Arasındaki Korelasyonlar:\")\n",
        "\n",
        "for damm in dam_names_reservoir:\n",
        "    # O gün için toplam yağış ile barajın doluluk oranını alıyoruz\n",
        "    y = merged_df[damm]  # Barajın doluluk oranı\n",
        "    correlation, p_value = stats.pearsonr(total_rainfall, y)\n",
        "\n",
        "    print(f\"{damm} barajı ile toplam yağış arasındaki korelasyon:\")\n",
        "    print(f\"Korelasyon: {correlation:.4f}, p-değeri: {p_value:.4f}\")\n",
        "    if p_value < 0.05:\n",
        "        print(f\"Hipotez reddedildi: Toplam yağış ile {damm} barajının doluluk oranı arasında anlamlı bir ilişki vardır.\\n\")\n",
        "    else:\n",
        "        print(f\"Hipotez reddedilemedi: Toplam yağış ile {damm} barajının doluluk oranı arasında anlamlı bir ilişki yoktur.\\n\")"
      ],
      "metadata": {
        "id": "XcGp_UOTQ9z8"
      },
      "execution_count": null,
      "outputs": []
    }
  ]
}